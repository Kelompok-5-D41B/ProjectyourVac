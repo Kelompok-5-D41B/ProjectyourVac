{
 "cells": [
  {
   "cell_type": "code",
   "execution_count": 26,
   "metadata": {},
   "outputs": [],
   "source": [
    "import time\n",
    "import json\n",
    "from pprint import pprint\n",
    "from selenium import webdriver\n",
    "from selenium.webdriver.common.keys import Keys\n",
    "from selenium.common.exceptions import NoSuchElementException"
   ]
  },
  {
   "cell_type": "code",
   "execution_count": 54,
   "metadata": {},
   "outputs": [],
   "source": [
    "chrome_path = \"\\Program Files\\chromedriver_win32\\chromedriver\""
   ]
  },
  {
   "cell_type": "code",
   "execution_count": 60,
   "metadata": {},
   "outputs": [],
   "source": [
    "page_url = \"https://www.youtube.com/watch?v=mA0Iw35jLUc\""
   ]
  },
  {
   "cell_type": "code",
   "execution_count": 61,
   "metadata": {},
   "outputs": [],
   "source": [
    "driver = webdriver.Chrome(executable_path=chrome_path)\n",
    "driver.get(page_url)\n",
    "time.sleep(2)"
   ]
  },
  {
   "cell_type": "code",
   "execution_count": 62,
   "metadata": {},
   "outputs": [
    {
     "name": "stdout",
     "output_type": "stream",
     "text": [
      "10 TEMPAT WISATA HITS DI KOTA BANDUNG!!! WAJIB DI KUNJUNGI\n"
     ]
    }
   ],
   "source": [
    "title = driver.find_element_by_xpath('//*[@id=\"container\"]/h1/yt-formatted-string').text\n",
    "print(title)"
   ]
  },
  {
   "cell_type": "code",
   "execution_count": 63,
   "metadata": {},
   "outputs": [],
   "source": [
    "SCROLL_PAUSE_TIME = 2\n",
    "CYCLES = 7"
   ]
  },
  {
   "cell_type": "code",
   "execution_count": 64,
   "metadata": {},
   "outputs": [],
   "source": [
    "html = driver.find_element_by_tag_name('html')\n",
    "html.send_keys(Keys.PAGE_DOWN)\n",
    "html.send_keys(Keys.PAGE_DOWN)\n",
    "time.sleep(SCROLL_PAUSE_TIME * 3)\n",
    "for i in range(CYCLES):\n",
    "    html.send_keys(Keys.END)\n",
    "    time.sleep(SCROLL_PAUSE_TIME)\n",
    "    html.send_keys(Keys.PAGE_UP)\n",
    "    time.sleep(SCROLL_PAUSE_TIME)"
   ]
  },
  {
   "cell_type": "code",
   "execution_count": 65,
   "metadata": {},
   "outputs": [
    {
     "name": "stdout",
     "output_type": "stream",
     "text": [
      "[<selenium.webdriver.remote.webelement.WebElement (session=\"e21ed97c9253ec7b1283fdb696d0424b\", element=\"d363506b-d1ce-46f5-8f0e-6c32efedacf9\")>,\n",
      " <selenium.webdriver.remote.webelement.WebElement (session=\"e21ed97c9253ec7b1283fdb696d0424b\", element=\"9dd352f0-36bd-4302-80ba-47c9d307f351\")>,\n",
      " <selenium.webdriver.remote.webelement.WebElement (session=\"e21ed97c9253ec7b1283fdb696d0424b\", element=\"16e9bae4-a0c0-4218-be87-b0b30bcafcfa\")>,\n",
      " <selenium.webdriver.remote.webelement.WebElement (session=\"e21ed97c9253ec7b1283fdb696d0424b\", element=\"3f0299b4-6b14-4dcb-ae95-a3d3cdffb303\")>,\n",
      " <selenium.webdriver.remote.webelement.WebElement (session=\"e21ed97c9253ec7b1283fdb696d0424b\", element=\"e7e464ef-d65a-411c-853c-ecacf0a5137b\")>,\n",
      " <selenium.webdriver.remote.webelement.WebElement (session=\"e21ed97c9253ec7b1283fdb696d0424b\", element=\"d048aec2-aa22-4ebe-823e-d793ab535ef4\")>,\n",
      " <selenium.webdriver.remote.webelement.WebElement (session=\"e21ed97c9253ec7b1283fdb696d0424b\", element=\"fb7c0714-24e1-4091-91d2-8ca3335a02b9\")>,\n",
      " <selenium.webdriver.remote.webelement.WebElement (session=\"e21ed97c9253ec7b1283fdb696d0424b\", element=\"c56e2441-53d8-43f7-99e8-2c309553adb6\")>,\n",
      " <selenium.webdriver.remote.webelement.WebElement (session=\"e21ed97c9253ec7b1283fdb696d0424b\", element=\"0de3e6ce-0873-4451-910c-74cb442f1d07\")>,\n",
      " <selenium.webdriver.remote.webelement.WebElement (session=\"e21ed97c9253ec7b1283fdb696d0424b\", element=\"73fb23b6-b54e-49ed-8adf-ad9d7f430ea0\")>,\n",
      " <selenium.webdriver.remote.webelement.WebElement (session=\"e21ed97c9253ec7b1283fdb696d0424b\", element=\"4cf43f46-a30b-419d-9eab-272892cf6361\")>,\n",
      " <selenium.webdriver.remote.webelement.WebElement (session=\"e21ed97c9253ec7b1283fdb696d0424b\", element=\"930d4687-7ab3-4324-ac56-218472b8c4a6\")>,\n",
      " <selenium.webdriver.remote.webelement.WebElement (session=\"e21ed97c9253ec7b1283fdb696d0424b\", element=\"6089e0c9-de34-4f87-9700-2067f7b690da\")>,\n",
      " <selenium.webdriver.remote.webelement.WebElement (session=\"e21ed97c9253ec7b1283fdb696d0424b\", element=\"c6613e77-1591-4c3b-b52e-fb29597b78f7\")>,\n",
      " <selenium.webdriver.remote.webelement.WebElement (session=\"e21ed97c9253ec7b1283fdb696d0424b\", element=\"b2b63a44-bc37-4f37-b4cf-fcbd38242b38\")>,\n",
      " <selenium.webdriver.remote.webelement.WebElement (session=\"e21ed97c9253ec7b1283fdb696d0424b\", element=\"267d006c-b57d-4dd8-a348-a5cb66ca8b0a\")>,\n",
      " <selenium.webdriver.remote.webelement.WebElement (session=\"e21ed97c9253ec7b1283fdb696d0424b\", element=\"292c2f0f-4860-42f7-8a07-e5a4b46da881\")>,\n",
      " <selenium.webdriver.remote.webelement.WebElement (session=\"e21ed97c9253ec7b1283fdb696d0424b\", element=\"7be7a2e6-aafe-4524-b6ad-478b1cbabaf4\")>,\n",
      " <selenium.webdriver.remote.webelement.WebElement (session=\"e21ed97c9253ec7b1283fdb696d0424b\", element=\"179e8941-3e79-4be7-93bc-d4a83b346915\")>,\n",
      " <selenium.webdriver.remote.webelement.WebElement (session=\"e21ed97c9253ec7b1283fdb696d0424b\", element=\"2a38e463-06fa-4f6c-b42a-387351429dfe\")>,\n",
      " <selenium.webdriver.remote.webelement.WebElement (session=\"e21ed97c9253ec7b1283fdb696d0424b\", element=\"e729171d-4e5d-4794-819c-5871cd3c241c\")>,\n",
      " <selenium.webdriver.remote.webelement.WebElement (session=\"e21ed97c9253ec7b1283fdb696d0424b\", element=\"d5a40157-6c41-4efd-93ae-c0b57f91767e\")>,\n",
      " <selenium.webdriver.remote.webelement.WebElement (session=\"e21ed97c9253ec7b1283fdb696d0424b\", element=\"53016fda-2dab-465a-ab18-681167d84ab9\")>,\n",
      " <selenium.webdriver.remote.webelement.WebElement (session=\"e21ed97c9253ec7b1283fdb696d0424b\", element=\"3788f39b-d96f-4ce5-b67f-51e26c17e86b\")>,\n",
      " <selenium.webdriver.remote.webelement.WebElement (session=\"e21ed97c9253ec7b1283fdb696d0424b\", element=\"f4bb3373-572f-4c9f-921f-bbf8830d25f6\")>,\n",
      " <selenium.webdriver.remote.webelement.WebElement (session=\"e21ed97c9253ec7b1283fdb696d0424b\", element=\"8e3462e3-a06a-4615-a7d2-3c669d429be8\")>,\n",
      " <selenium.webdriver.remote.webelement.WebElement (session=\"e21ed97c9253ec7b1283fdb696d0424b\", element=\"25df19a6-e370-4556-84fc-a065b4d72e61\")>,\n",
      " <selenium.webdriver.remote.webelement.WebElement (session=\"e21ed97c9253ec7b1283fdb696d0424b\", element=\"b1082414-06b4-4b6c-a18b-16ee6357c4af\")>,\n",
      " <selenium.webdriver.remote.webelement.WebElement (session=\"e21ed97c9253ec7b1283fdb696d0424b\", element=\"f73ce6bd-24e5-4ca7-8067-7d810d848fcf\")>,\n",
      " <selenium.webdriver.remote.webelement.WebElement (session=\"e21ed97c9253ec7b1283fdb696d0424b\", element=\"567f6bb5-5dc0-4616-a0ff-9fd8b5d0cf3e\")>,\n",
      " <selenium.webdriver.remote.webelement.WebElement (session=\"e21ed97c9253ec7b1283fdb696d0424b\", element=\"d76550e8-7546-40e5-bad1-aa639f0c4259\")>,\n",
      " <selenium.webdriver.remote.webelement.WebElement (session=\"e21ed97c9253ec7b1283fdb696d0424b\", element=\"58a63ed4-c705-4099-8bb1-3ac1cf398a38\")>,\n",
      " <selenium.webdriver.remote.webelement.WebElement (session=\"e21ed97c9253ec7b1283fdb696d0424b\", element=\"de20ad23-56dd-4c0a-9a52-110509077661\")>,\n",
      " <selenium.webdriver.remote.webelement.WebElement (session=\"e21ed97c9253ec7b1283fdb696d0424b\", element=\"111eabb9-c6fb-4d53-8e4a-a321745c4f04\")>,\n",
      " <selenium.webdriver.remote.webelement.WebElement (session=\"e21ed97c9253ec7b1283fdb696d0424b\", element=\"4fbd454c-269b-4eed-9c35-993e175cd422\")>,\n",
      " <selenium.webdriver.remote.webelement.WebElement (session=\"e21ed97c9253ec7b1283fdb696d0424b\", element=\"009de555-89eb-4d9e-9ee5-3a6d83c0fcc6\")>,\n",
      " <selenium.webdriver.remote.webelement.WebElement (session=\"e21ed97c9253ec7b1283fdb696d0424b\", element=\"48537efd-a9a8-49d0-a81c-5438ad957a26\")>,\n",
      " <selenium.webdriver.remote.webelement.WebElement (session=\"e21ed97c9253ec7b1283fdb696d0424b\", element=\"6398c926-f05b-42be-b780-1bb38f13b00a\")>,\n",
      " <selenium.webdriver.remote.webelement.WebElement (session=\"e21ed97c9253ec7b1283fdb696d0424b\", element=\"f86ffdf7-97f3-4bb8-88fe-bb9e4c6d764c\")>,\n",
      " <selenium.webdriver.remote.webelement.WebElement (session=\"e21ed97c9253ec7b1283fdb696d0424b\", element=\"4f6d5323-2c0c-4474-8bbe-b1abd14cccb1\")>]\n"
     ]
    }
   ],
   "source": [
    "comment_elems = driver.find_elements_by_xpath('//*[@id=\"content-text\"]')\n",
    "all_comments = [elem.text for elem in comment_elems]\n",
    "pprint(comment_elems)"
   ]
  },
  {
   "cell_type": "code",
   "execution_count": 66,
   "metadata": {},
   "outputs": [],
   "source": [
    "with open('yt_comments_10wisatahitsbandung.json', 'w') as f:\n",
    "    json.dump(all_comments, f)"
   ]
  },
  {
   "cell_type": "code",
   "execution_count": null,
   "metadata": {},
   "outputs": [],
   "source": []
  }
 ],
 "metadata": {
  "kernelspec": {
   "display_name": "Python 3",
   "language": "python",
   "name": "python3"
  },
  "language_info": {
   "codemirror_mode": {
    "name": "ipython",
    "version": 3
   },
   "file_extension": ".py",
   "mimetype": "text/x-python",
   "name": "python",
   "nbconvert_exporter": "python",
   "pygments_lexer": "ipython3",
   "version": "3.7.6"
  }
 },
 "nbformat": 4,
 "nbformat_minor": 4
}
