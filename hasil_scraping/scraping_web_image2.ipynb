{
 "cells": [
  {
   "cell_type": "code",
   "execution_count": 52,
   "metadata": {},
   "outputs": [],
   "source": [
    "from selenium import webdriver\n",
    "import time"
   ]
  },
  {
   "cell_type": "code",
   "execution_count": 53,
   "metadata": {},
   "outputs": [],
   "source": [
    "import json"
   ]
  },
  {
   "cell_type": "code",
   "execution_count": 54,
   "metadata": {},
   "outputs": [],
   "source": [
    "driver = webdriver.Chrome()"
   ]
  },
  {
   "cell_type": "code",
   "execution_count": 55,
   "metadata": {},
   "outputs": [],
   "source": [
    "url = \"https://www.tripadvisor.co.id/Attractions-g297704-Activities-Bandung_West_Java_Java.html\""
   ]
  },
  {
   "cell_type": "code",
   "execution_count": 17,
   "metadata": {},
   "outputs": [
    {
     "name": "stdout",
     "output_type": "stream",
     "text": [
      "https://www.tripadvisor.co.id/Attractions-g297704-Activities-Bandung_West_Java_Java.html\n"
     ]
    }
   ],
   "source": [
    "driver.get(url)\n",
    "print(driver.current_url)\n",
    "driver.implicitly_wait(30)"
   ]
  },
  {
   "cell_type": "code",
   "execution_count": 35,
   "metadata": {},
   "outputs": [
    {
     "data": {
      "text/plain": [
       "30"
      ]
     },
     "execution_count": 35,
     "metadata": {},
     "output_type": "execute_result"
    }
   ],
   "source": [
    "result = driver.find_elements_by_class_name(\"attraction_element\")\n",
    "len(result)"
   ]
  },
  {
   "cell_type": "code",
   "execution_count": 39,
   "metadata": {},
   "outputs": [],
   "source": [
    "Advisor = []"
   ]
  },
  {
   "cell_type": "code",
   "execution_count": 44,
   "metadata": {},
   "outputs": [],
   "source": [
    "for product in driver.find_elements_by_class_name(\"attraction_element\"):\n",
    "    if product.text != '':\n",
    "        images = []\n",
    "        for img in product.find_elements_by_tag_name('img'):\n",
    "            images.append({'alt': img.get_attribute('alt'), 'src': img.get_attribute('src')})\n",
    "        Advisor.append({\n",
    "            'name' : images[0]['alt'],\n",
    "            'image': images[0]['src'],\n",
    "        })"
   ]
  },
  {
   "cell_type": "code",
   "execution_count": 45,
   "metadata": {},
   "outputs": [
    {
     "data": {
      "text/plain": [
       "30"
      ]
     },
     "execution_count": 45,
     "metadata": {},
     "output_type": "execute_result"
    }
   ],
   "source": [
    "len(Advisor)"
   ]
  },
  {
   "cell_type": "code",
   "execution_count": 46,
   "metadata": {},
   "outputs": [
    {
     "data": {
      "text/plain": [
       "[{'name': 'Trans Studio Bandung',\n",
       "  'image': 'https://media-cdn.tripadvisor.com/media/photo-f/02/64/01/8b/filename-photo0465-jpg.jpg'},\n",
       " {'name': 'Taman Patung NuArt',\n",
       "  'image': 'https://media-cdn.tripadvisor.com/media/photo-i/0d/52/25/cb/nuart-sculpture-park.jpg'},\n",
       " {'name': 'Dusun Bambu Family Leisure Park',\n",
       "  'image': 'https://media-cdn.tripadvisor.com/media/photo-f/0a/b6/c1/9c/cimg9333-largejpg.jpg'},\n",
       " {'name': 'Paris Van Java',\n",
       "  'image': 'https://media-cdn.tripadvisor.com/media/photo-i/10/0f/1c/44/screenshot-2017-07-29.jpg'},\n",
       " {'name': 'Jalan Braga',\n",
       "  'image': 'https://media-cdn.tripadvisor.com/media/photo-f/0a/76/15/69/20160227-180653-largejpg.jpg'},\n",
       " {'name': '23 Paskal Shopping Centre',\n",
       "  'image': 'https://media-cdn.tripadvisor.com/media/photo-i/11/c2/b2/d5/ada-pohon-natal-emashehehhee.jpg'},\n",
       " {'name': 'Museum Geologi',\n",
       "  'image': 'https://media-cdn.tripadvisor.com/media/photo-f/02/1d/65/12/not-so-ancient-elephant.jpg'},\n",
       " {'name': 'Jalan Asia Afrika',\n",
       "  'image': 'https://media-cdn.tripadvisor.com/media/photo-f/17/a1/72/e6/jalan-asia-afrika.jpg'},\n",
       " {'name': 'FO Rumah Mode',\n",
       "  'image': 'https://media-cdn.tripadvisor.com/media/photo-f/03/fe/6b/9a/rumah-mode-factory-outlet.jpg'},\n",
       " {'name': 'Gedung Sate',\n",
       "  'image': 'https://media-cdn.tripadvisor.com/media/photo-i/17/ca/76/1e/frontage.jpg'},\n",
       " {'name': 'Cihampelas Walk',\n",
       "  'image': 'https://media-cdn.tripadvisor.com/media/photo-i/16/e7/3e/a1/lots-of-greenery-around.jpg'},\n",
       " {'name': 'Sumber Air Panas Sari Ater',\n",
       "  'image': 'https://media-cdn.tripadvisor.com/media/photo-f/0b/51/54/71/img-20160511-085634-largejpg.jpg'},\n",
       " {'name': 'Museum Konferensi Asia Afrika',\n",
       "  'image': 'https://media-cdn.tripadvisor.com/media/photo-i/0b/b7/9c/57/right-across-the-building.jpg'},\n",
       " {'name': 'Trans Studio Mall',\n",
       "  'image': 'https://media-cdn.tripadvisor.com/media/photo-s/0a/87/01/74/trans-studio-mall.jpg'},\n",
       " {'name': 'Pertapaan Karmel OCD',\n",
       "  'image': 'https://media-cdn.tripadvisor.com/media/photo-i/0f/56/e5/fb/pertapaan-karmel-ocd.jpg'},\n",
       " {'name': 'Sudirman Street',\n",
       "  'image': 'https://media-cdn.tripadvisor.com/media/photo-i/0e/27/d3/bc/photo0jpg.jpg'},\n",
       " {'name': 'Mesjid Raya Bandung',\n",
       "  'image': 'https://media-cdn.tripadvisor.com/media/photo-i/11/9c/ca/df/mesjid-raya-bandung.jpg'},\n",
       " {'name': 'Pusat Pertokoan Cihampelas Walk',\n",
       "  'image': 'https://media-cdn.tripadvisor.com/media/photo-i/11/c3/15/92/cihampelas-walk-shopping.jpg'},\n",
       " {'name': 'Wisata Air Panas Ciater',\n",
       "  'image': 'https://media-cdn.tripadvisor.com/media/photo-f/08/be/60/3a/camping-park.jpg'},\n",
       " {'name': 'Taman Hutan Raya Tahura Ir. H. Juanda',\n",
       "  'image': 'https://media-cdn.tripadvisor.com/media/photo-f/04/0c/be/d2/forest-park-conservation.jpg'},\n",
       " {'name': 'Alun Alun Bandung',\n",
       "  'image': 'https://media-cdn.tripadvisor.com/media/photo-i/0d/61/04/e8/alun-alun-bandung.jpg'},\n",
       " {'name': 'Katedral Santo Petrus',\n",
       "  'image': 'https://media-cdn.tripadvisor.com/media/photo-i/17/2b/84/e5/st-peter-s-cathedral.jpg'},\n",
       " {'name': 'Taman Balai Kota Bandung',\n",
       "  'image': 'https://media-cdn.tripadvisor.com/media/photo-f/12/56/dc/cc/eastern-part.jpg'},\n",
       " {'name': 'Stone Garden Citatah',\n",
       "  'image': 'https://media-cdn.tripadvisor.com/media/photo-i/0d/a2/cb/05/stone-garden-citatah.jpg'},\n",
       " {'name': 'Masjid Agung Trans Studio Bandung',\n",
       "  'image': 'https://media-cdn.tripadvisor.com/media/photo-f/16/97/4f/0f/masjid-agung-trans-studio.jpg'},\n",
       " {'name': 'Curug Cimahi',\n",
       "  'image': 'https://media-cdn.tripadvisor.com/media/photo-i/12/33/b5/d7/p-20180218-153409-largejpg.jpg'},\n",
       " {'name': 'Kuliner Jalan Cibadak',\n",
       "  'image': 'https://media-cdn.tripadvisor.com/media/photo-f/11/d6/07/7f/lampion-yang-menambah.jpg'},\n",
       " {'name': 'Tebing Keraton',\n",
       "  'image': 'https://media-cdn.tripadvisor.com/media/photo-i/0d/cd/7f/a8/the-day-became-brighter.jpg'},\n",
       " {'name': 'Perkebunan Teh, PTPN 8',\n",
       "  'image': 'https://media-cdn.tripadvisor.com/media/photo-s/07/88/f8/1d/tea-country-ptpn-8.jpg'},\n",
       " {'name': 'Perkebunan Teh Malabar',\n",
       "  'image': 'https://media-cdn.tripadvisor.com/media/photo-f/07/58/bd/5e/tea-plantation.jpg'}]"
      ]
     },
     "execution_count": 46,
     "metadata": {},
     "output_type": "execute_result"
    }
   ],
   "source": [
    "Advisor"
   ]
  },
  {
   "cell_type": "code",
   "execution_count": 56,
   "metadata": {},
   "outputs": [],
   "source": [
    "driver.quit()"
   ]
  },
  {
   "cell_type": "code",
   "execution_count": 57,
   "metadata": {},
   "outputs": [],
   "source": [
    "driver = webdriver.Chrome()"
   ]
  },
  {
   "cell_type": "code",
   "execution_count": 58,
   "metadata": {},
   "outputs": [],
   "source": [
    "url = \"https://www.tripadvisor.co.id/Attractions-g297704-Activities-oa30-Bandung_West_Java_Java.html#FILTERED_LIST\""
   ]
  },
  {
   "cell_type": "code",
   "execution_count": 59,
   "metadata": {},
   "outputs": [
    {
     "name": "stdout",
     "output_type": "stream",
     "text": [
      "https://www.tripadvisor.co.id/Attractions-g297704-Activities-oa30-Bandung_West_Java_Java.html#FILTERED_LIST\n"
     ]
    }
   ],
   "source": [
    "driver.get(url)\n",
    "print(driver.current_url)\n",
    "driver.implicitly_wait(30)"
   ]
  },
  {
   "cell_type": "code",
   "execution_count": 60,
   "metadata": {},
   "outputs": [
    {
     "data": {
      "text/plain": [
       "30"
      ]
     },
     "execution_count": 60,
     "metadata": {},
     "output_type": "execute_result"
    }
   ],
   "source": [
    "result = driver.find_elements_by_class_name(\"attraction_element\")\n",
    "len(result)"
   ]
  },
  {
   "cell_type": "code",
   "execution_count": 61,
   "metadata": {},
   "outputs": [],
   "source": [
    "for product in driver.find_elements_by_class_name(\"attraction_element\"):\n",
    "    if product.text != '':\n",
    "        images = []\n",
    "        for img in product.find_elements_by_tag_name('img'):\n",
    "            images.append({'alt': img.get_attribute('alt'), 'src': img.get_attribute('src')})\n",
    "        Advisor.append({\n",
    "            'name' : images[0]['alt'],\n",
    "            'image': images[0]['src'],\n",
    "        })"
   ]
  },
  {
   "cell_type": "code",
   "execution_count": 62,
   "metadata": {},
   "outputs": [
    {
     "data": {
      "text/plain": [
       "60"
      ]
     },
     "execution_count": 62,
     "metadata": {},
     "output_type": "execute_result"
    }
   ],
   "source": [
    "len(Advisor)"
   ]
  },
  {
   "cell_type": "code",
   "execution_count": 67,
   "metadata": {},
   "outputs": [],
   "source": [
    "driver.quit()\n",
    "driver = webdriver.Chrome()"
   ]
  },
  {
   "cell_type": "code",
   "execution_count": 68,
   "metadata": {},
   "outputs": [],
   "source": [
    "url = \"https://www.tripadvisor.co.id/Attractions-g297704-Activities-oa60-Bandung_West_Java_Java.html#FILTERED_LIST\""
   ]
  },
  {
   "cell_type": "code",
   "execution_count": 69,
   "metadata": {},
   "outputs": [
    {
     "name": "stdout",
     "output_type": "stream",
     "text": [
      "https://www.tripadvisor.co.id/Attractions-g297704-Activities-oa60-Bandung_West_Java_Java.html#FILTERED_LIST\n"
     ]
    }
   ],
   "source": [
    "driver.get(url)\n",
    "print(driver.current_url)\n",
    "driver.implicitly_wait(30)"
   ]
  },
  {
   "cell_type": "code",
   "execution_count": 70,
   "metadata": {},
   "outputs": [
    {
     "data": {
      "text/plain": [
       "30"
      ]
     },
     "execution_count": 70,
     "metadata": {},
     "output_type": "execute_result"
    }
   ],
   "source": [
    "result = driver.find_elements_by_class_name(\"attraction_element\")\n",
    "len(result)"
   ]
  },
  {
   "cell_type": "code",
   "execution_count": 71,
   "metadata": {},
   "outputs": [],
   "source": [
    "for product in driver.find_elements_by_class_name(\"attraction_element\"):\n",
    "    if product.text != '':\n",
    "        images = []\n",
    "        for img in product.find_elements_by_tag_name('img'):\n",
    "            images.append({'alt': img.get_attribute('alt'), 'src': img.get_attribute('src')})\n",
    "        Advisor.append({\n",
    "            'name' : images[0]['alt'],\n",
    "            'image': images[0]['src'],\n",
    "        })"
   ]
  },
  {
   "cell_type": "code",
   "execution_count": 72,
   "metadata": {},
   "outputs": [
    {
     "data": {
      "text/plain": [
       "90"
      ]
     },
     "execution_count": 72,
     "metadata": {},
     "output_type": "execute_result"
    }
   ],
   "source": [
    "len(Advisor)"
   ]
  },
  {
   "cell_type": "code",
   "execution_count": 73,
   "metadata": {},
   "outputs": [],
   "source": [
    "driver.quit()\n",
    "driver = webdriver.Chrome()"
   ]
  },
  {
   "cell_type": "code",
   "execution_count": 74,
   "metadata": {},
   "outputs": [],
   "source": [
    "url = \"https://www.tripadvisor.co.id/Attractions-g297704-Activities-oa90-Bandung_West_Java_Java.html#FILTERED_LIST\""
   ]
  },
  {
   "cell_type": "code",
   "execution_count": 75,
   "metadata": {},
   "outputs": [
    {
     "name": "stdout",
     "output_type": "stream",
     "text": [
      "https://www.tripadvisor.co.id/Attractions-g297704-Activities-oa90-Bandung_West_Java_Java.html#FILTERED_LIST\n"
     ]
    }
   ],
   "source": [
    "driver.get(url)\n",
    "print(driver.current_url)\n",
    "driver.implicitly_wait(30)"
   ]
  },
  {
   "cell_type": "code",
   "execution_count": 76,
   "metadata": {},
   "outputs": [
    {
     "data": {
      "text/plain": [
       "30"
      ]
     },
     "execution_count": 76,
     "metadata": {},
     "output_type": "execute_result"
    }
   ],
   "source": [
    "result = driver.find_elements_by_class_name(\"attraction_element\")\n",
    "len(result)"
   ]
  },
  {
   "cell_type": "code",
   "execution_count": 77,
   "metadata": {},
   "outputs": [],
   "source": [
    "for product in driver.find_elements_by_class_name(\"attraction_element\"):\n",
    "    if product.text != '':\n",
    "        images = []\n",
    "        for img in product.find_elements_by_tag_name('img'):\n",
    "            images.append({'alt': img.get_attribute('alt'), 'src': img.get_attribute('src')})\n",
    "        Advisor.append({\n",
    "            'name' : images[0]['alt'],\n",
    "            'image': images[0]['src'],\n",
    "        })"
   ]
  },
  {
   "cell_type": "code",
   "execution_count": 78,
   "metadata": {},
   "outputs": [
    {
     "data": {
      "text/plain": [
       "120"
      ]
     },
     "execution_count": 78,
     "metadata": {},
     "output_type": "execute_result"
    }
   ],
   "source": [
    "len(Advisor)"
   ]
  },
  {
   "cell_type": "code",
   "execution_count": 79,
   "metadata": {},
   "outputs": [],
   "source": [
    "driver.quit()\n",
    "driver = webdriver.Chrome()"
   ]
  },
  {
   "cell_type": "code",
   "execution_count": 80,
   "metadata": {},
   "outputs": [],
   "source": [
    "url = \"https://www.tripadvisor.co.id/Attractions-g297704-Activities-oa120-Bandung_West_Java_Java.html#FILTERED_LIST\""
   ]
  },
  {
   "cell_type": "code",
   "execution_count": 81,
   "metadata": {},
   "outputs": [
    {
     "name": "stdout",
     "output_type": "stream",
     "text": [
      "https://www.tripadvisor.co.id/Attractions-g297704-Activities-oa120-Bandung_West_Java_Java.html#FILTERED_LIST\n"
     ]
    }
   ],
   "source": [
    "driver.get(url)\n",
    "print(driver.current_url)\n",
    "driver.implicitly_wait(30)"
   ]
  },
  {
   "cell_type": "code",
   "execution_count": 82,
   "metadata": {},
   "outputs": [
    {
     "data": {
      "text/plain": [
       "24"
      ]
     },
     "execution_count": 82,
     "metadata": {},
     "output_type": "execute_result"
    }
   ],
   "source": [
    "result = driver.find_elements_by_class_name(\"attraction_element\")\n",
    "len(result)"
   ]
  },
  {
   "cell_type": "code",
   "execution_count": 83,
   "metadata": {},
   "outputs": [],
   "source": [
    "for product in driver.find_elements_by_class_name(\"attraction_element\"):\n",
    "    if product.text != '':\n",
    "        images = []\n",
    "        for img in product.find_elements_by_tag_name('img'):\n",
    "            images.append({'alt': img.get_attribute('alt'), 'src': img.get_attribute('src')})\n",
    "        Advisor.append({\n",
    "            'name' : images[0]['alt'],\n",
    "            'image': images[0]['src'],\n",
    "        })"
   ]
  },
  {
   "cell_type": "code",
   "execution_count": 84,
   "metadata": {},
   "outputs": [
    {
     "data": {
      "text/plain": [
       "144"
      ]
     },
     "execution_count": 84,
     "metadata": {},
     "output_type": "execute_result"
    }
   ],
   "source": [
    "len(Advisor)"
   ]
  },
  {
   "cell_type": "code",
   "execution_count": 85,
   "metadata": {},
   "outputs": [
    {
     "data": {
      "text/plain": [
       "[{'name': 'Trans Studio Bandung',\n",
       "  'image': 'https://media-cdn.tripadvisor.com/media/photo-f/02/64/01/8b/filename-photo0465-jpg.jpg'},\n",
       " {'name': 'Taman Patung NuArt',\n",
       "  'image': 'https://media-cdn.tripadvisor.com/media/photo-i/0d/52/25/cb/nuart-sculpture-park.jpg'},\n",
       " {'name': 'Dusun Bambu Family Leisure Park',\n",
       "  'image': 'https://media-cdn.tripadvisor.com/media/photo-f/0a/b6/c1/9c/cimg9333-largejpg.jpg'},\n",
       " {'name': 'Paris Van Java',\n",
       "  'image': 'https://media-cdn.tripadvisor.com/media/photo-i/10/0f/1c/44/screenshot-2017-07-29.jpg'},\n",
       " {'name': 'Jalan Braga',\n",
       "  'image': 'https://media-cdn.tripadvisor.com/media/photo-f/0a/76/15/69/20160227-180653-largejpg.jpg'},\n",
       " {'name': '23 Paskal Shopping Centre',\n",
       "  'image': 'https://media-cdn.tripadvisor.com/media/photo-i/11/c2/b2/d5/ada-pohon-natal-emashehehhee.jpg'},\n",
       " {'name': 'Museum Geologi',\n",
       "  'image': 'https://media-cdn.tripadvisor.com/media/photo-f/02/1d/65/12/not-so-ancient-elephant.jpg'},\n",
       " {'name': 'Jalan Asia Afrika',\n",
       "  'image': 'https://media-cdn.tripadvisor.com/media/photo-f/17/a1/72/e6/jalan-asia-afrika.jpg'},\n",
       " {'name': 'FO Rumah Mode',\n",
       "  'image': 'https://media-cdn.tripadvisor.com/media/photo-f/03/fe/6b/9a/rumah-mode-factory-outlet.jpg'},\n",
       " {'name': 'Gedung Sate',\n",
       "  'image': 'https://media-cdn.tripadvisor.com/media/photo-i/17/ca/76/1e/frontage.jpg'},\n",
       " {'name': 'Cihampelas Walk',\n",
       "  'image': 'https://media-cdn.tripadvisor.com/media/photo-i/16/e7/3e/a1/lots-of-greenery-around.jpg'},\n",
       " {'name': 'Sumber Air Panas Sari Ater',\n",
       "  'image': 'https://media-cdn.tripadvisor.com/media/photo-f/0b/51/54/71/img-20160511-085634-largejpg.jpg'},\n",
       " {'name': 'Museum Konferensi Asia Afrika',\n",
       "  'image': 'https://media-cdn.tripadvisor.com/media/photo-i/0b/b7/9c/57/right-across-the-building.jpg'},\n",
       " {'name': 'Trans Studio Mall',\n",
       "  'image': 'https://media-cdn.tripadvisor.com/media/photo-s/0a/87/01/74/trans-studio-mall.jpg'},\n",
       " {'name': 'Pertapaan Karmel OCD',\n",
       "  'image': 'https://media-cdn.tripadvisor.com/media/photo-i/0f/56/e5/fb/pertapaan-karmel-ocd.jpg'},\n",
       " {'name': 'Sudirman Street',\n",
       "  'image': 'https://media-cdn.tripadvisor.com/media/photo-i/0e/27/d3/bc/photo0jpg.jpg'},\n",
       " {'name': 'Mesjid Raya Bandung',\n",
       "  'image': 'https://media-cdn.tripadvisor.com/media/photo-i/11/9c/ca/df/mesjid-raya-bandung.jpg'},\n",
       " {'name': 'Pusat Pertokoan Cihampelas Walk',\n",
       "  'image': 'https://media-cdn.tripadvisor.com/media/photo-i/11/c3/15/92/cihampelas-walk-shopping.jpg'},\n",
       " {'name': 'Wisata Air Panas Ciater',\n",
       "  'image': 'https://media-cdn.tripadvisor.com/media/photo-f/08/be/60/3a/camping-park.jpg'},\n",
       " {'name': 'Taman Hutan Raya Tahura Ir. H. Juanda',\n",
       "  'image': 'https://media-cdn.tripadvisor.com/media/photo-f/04/0c/be/d2/forest-park-conservation.jpg'},\n",
       " {'name': 'Alun Alun Bandung',\n",
       "  'image': 'https://media-cdn.tripadvisor.com/media/photo-i/0d/61/04/e8/alun-alun-bandung.jpg'},\n",
       " {'name': 'Katedral Santo Petrus',\n",
       "  'image': 'https://media-cdn.tripadvisor.com/media/photo-i/17/2b/84/e5/st-peter-s-cathedral.jpg'},\n",
       " {'name': 'Taman Balai Kota Bandung',\n",
       "  'image': 'https://media-cdn.tripadvisor.com/media/photo-f/12/56/dc/cc/eastern-part.jpg'},\n",
       " {'name': 'Stone Garden Citatah',\n",
       "  'image': 'https://media-cdn.tripadvisor.com/media/photo-i/0d/a2/cb/05/stone-garden-citatah.jpg'},\n",
       " {'name': 'Masjid Agung Trans Studio Bandung',\n",
       "  'image': 'https://media-cdn.tripadvisor.com/media/photo-f/16/97/4f/0f/masjid-agung-trans-studio.jpg'},\n",
       " {'name': 'Curug Cimahi',\n",
       "  'image': 'https://media-cdn.tripadvisor.com/media/photo-i/12/33/b5/d7/p-20180218-153409-largejpg.jpg'},\n",
       " {'name': 'Kuliner Jalan Cibadak',\n",
       "  'image': 'https://media-cdn.tripadvisor.com/media/photo-f/11/d6/07/7f/lampion-yang-menambah.jpg'},\n",
       " {'name': 'Tebing Keraton',\n",
       "  'image': 'https://media-cdn.tripadvisor.com/media/photo-i/0d/cd/7f/a8/the-day-became-brighter.jpg'},\n",
       " {'name': 'Perkebunan Teh, PTPN 8',\n",
       "  'image': 'https://media-cdn.tripadvisor.com/media/photo-s/07/88/f8/1d/tea-country-ptpn-8.jpg'},\n",
       " {'name': 'Perkebunan Teh Malabar',\n",
       "  'image': 'https://media-cdn.tripadvisor.com/media/photo-f/07/58/bd/5e/tea-plantation.jpg'},\n",
       " {'name': 'Kawah Rengganis',\n",
       "  'image': 'https://media-cdn.tripadvisor.com/media/photo-i/12/35/63/ba/20180302-091327-largejpg.jpg'},\n",
       " {'name': 'Rabbit Town',\n",
       "  'image': 'https://media-cdn.tripadvisor.com/media/photo-i/12/75/aa/2d/rabbit-town.jpg'},\n",
       " {'name': 'Gedung  Bank Indonesia',\n",
       "  'image': 'https://media-cdn.tripadvisor.com/media/photo-i/0c/56/19/de/photo0jpg.jpg'},\n",
       " {'name': 'Wot Batu',\n",
       "  'image': 'https://media-cdn.tripadvisor.com/media/photo-i/10/fd/da/78/batu-air-wot-batu-bandung.jpg'},\n",
       " {'name': 'Institut Teknologi Bandung',\n",
       "  'image': 'https://media-cdn.tripadvisor.com/media/photo-f/06/f5/1c/b8/institute-of-technology.jpg'},\n",
       " {'name': 'Amazing Art World',\n",
       "  'image': 'https://media-cdn.tripadvisor.com/media/photo-i/0e/d6/17/8a/photo5jpg.jpg'},\n",
       " {'name': 'Bukit Moko',\n",
       "  'image': 'https://media-cdn.tripadvisor.com/media/photo-f/09/e4/49/ce/bukit-cartil-caringin.jpg'},\n",
       " {'name': 'Bandung Indah Plaza',\n",
       "  'image': 'https://media-cdn.tripadvisor.com/media/photo-i/17/7f/4b/3e/bandung-indah-plaza.jpg'},\n",
       " {'name': 'Kebun Binatang Bandung',\n",
       "  'image': 'https://media-cdn.tripadvisor.com/media/photo-s/05/30/92/37/kandang-singa.jpg'},\n",
       " {'name': 'Bandung Treetop',\n",
       "  'image': 'https://media-cdn.tripadvisor.com/media/photo-f/0b/21/4e/e0/photo0jpg.jpg'},\n",
       " {'name': 'Festival Citylink',\n",
       "  'image': 'https://media-cdn.tripadvisor.com/media/photo-i/0f/27/ed/36/dalam-mall.jpg'},\n",
       " {'name': 'Taman Lalu Lintas',\n",
       "  'image': 'https://media-cdn.tripadvisor.com/media/photo-f/0a/ed/c7/82/selamat-datang-di-taman.jpg'},\n",
       " {'name': 'Masjid Salman ITB',\n",
       "  'image': 'https://media-cdn.tripadvisor.com/media/photo-f/06/f5/39/f2/salman-mosque-itb.jpg'},\n",
       " {'name': 'Heritage Factory Outlet',\n",
       "  'image': 'https://media-cdn.tripadvisor.com/media/photo-s/08/6e/e5/c6/heritage-factory-outlet.jpg'},\n",
       " {'name': 'Jendela Alam',\n",
       "  'image': 'https://media-cdn.tripadvisor.com/media/photo-i/11/79/a4/cd/jendela-alam.jpg'},\n",
       " {'name': 'Baksil Skywalk',\n",
       "  'image': 'https://media-cdn.tripadvisor.com/media/photo-i/14/ac/09/33/babakan-siliwangi.jpg'},\n",
       " {'name': 'Braga City Walk',\n",
       "  'image': 'https://media-cdn.tripadvisor.com/media/photo-i/16/73/e5/e6/berbagai-outlet.jpg'},\n",
       " {'name': 'Masjid Al-Irsyad',\n",
       "  'image': 'https://media-cdn.tripadvisor.com/media/photo-s/0a/79/e3/23/masjid-al-irsyad-kota.jpg'},\n",
       " {'name': 'Situ Cileunca',\n",
       "  'image': 'https://media-cdn.tripadvisor.com/media/photo-i/0f/90/48/b4/photo1jpg.jpg'},\n",
       " {'name': 'Upside Down World Bandung',\n",
       "  'image': 'https://media-cdn.tripadvisor.com/media/photo-i/0d/be/92/9f/20161127-103024-largejpg.jpg'},\n",
       " {'name': 'Villa Isola',\n",
       "  'image': 'https://media-cdn.tripadvisor.com/media/photo-i/16/43/74/72/photo1jpg.jpg'},\n",
       " {'name': 'Monumen Perjuangan Rakyat Jawa Barat',\n",
       "  'image': 'https://media-cdn.tripadvisor.com/media/photo-i/11/06/73/45/monument-van-zee-en-vuur.jpg'},\n",
       " {'name': 'Pasar Barang Antik Cikapundung',\n",
       "  'image': 'https://media-cdn.tripadvisor.com/media/photo-f/0a/61/9f/39/een-van-de-verkopers.jpg'},\n",
       " {'name': 'Pemakaman Belanda Ereveld Pandu',\n",
       "  'image': 'https://media-cdn.tripadvisor.com/media/photo-i/15/f3/af/5c/ereveld-pandu-dutch-cemetery.jpg'},\n",
       " {'name': 'Museum Sri Baduga',\n",
       "  'image': 'https://media-cdn.tripadvisor.com/media/photo-f/09/49/dd/4b/museum-sri-baduga.jpg'},\n",
       " {'name': 'Teras Cihampelas',\n",
       "  'image': 'https://media-cdn.tripadvisor.com/media/photo-i/15/65/ca/e1/ada-tempat-untuk-ngecharge.jpg'},\n",
       " {'name': 'Lactasari Dairy Farm',\n",
       "  'image': 'https://media-cdn.tripadvisor.com/media/photo-f/08/97/b0/3d/lactasari-dairy-farm.jpg'},\n",
       " {'name': 'CGV Blitz Miko Mall',\n",
       "  'image': 'https://media-cdn.tripadvisor.com/media/photo-f/07/49/9d/71/ticket-booths.jpg'},\n",
       " {'name': 'Kampung Gajah',\n",
       "  'image': 'https://media-cdn.tripadvisor.com/media/photo-i/0f/3f/94/1e/kota-bandung.jpg'},\n",
       " {'name': 'Teras Cikapundung',\n",
       "  'image': 'https://media-cdn.tripadvisor.com/media/photo-f/0a/7d/13/75/img-20160208-091018-1.jpg'},\n",
       " {'name': 'Selasar Soenaryo',\n",
       "  'image': 'https://media-cdn.tripadvisor.com/media/photo-s/06/c0/93/4d/selasar-soenaryo.jpg'},\n",
       " {'name': 'KidZoo PVJ',\n",
       "  'image': 'https://media-cdn.tripadvisor.com/media/photo-i/11/9f/86/c4/img-20171228-180214-largejpg.jpg'},\n",
       " {'name': 'Istana BEC',\n",
       "  'image': 'https://media-cdn.tripadvisor.com/media/photo-i/16/d4/85/29/from-outside-the-mall.jpg'},\n",
       " {'name': 'BTC Fashion Mall',\n",
       "  'image': 'https://media-cdn.tripadvisor.com/media/photo-i/0c/09/1d/1c/inside-btc-mall.jpg'},\n",
       " {'name': 'Museum Pos Indonesia',\n",
       "  'image': 'https://media-cdn.tripadvisor.com/media/photo-i/10/fb/9d/4a/front-view.jpg'},\n",
       " {'name': 'Monumen Solidaritas Asia Afrika',\n",
       "  'image': 'https://media-cdn.tripadvisor.com/media/photo-f/0b/5b/ed/aa/diambil-dari-jalan-asia.jpg'},\n",
       " {'name': 'Passion Factory Outlet',\n",
       "  'image': 'https://media-cdn.tripadvisor.com/media/photo-f/11/1c/21/70/20171029-070156-largejpg.jpg'},\n",
       " {'name': 'Tidak ada foto yang tersedia',\n",
       "  'image': 'https://static.tacdn.com/img2/social/no_photo_attraction.gif'},\n",
       " {'name': 'Puspa Iptek Sundial',\n",
       "  'image': 'https://media-cdn.tripadvisor.com/media/photo-f/08/fc/d2/93/sundial.jpg'},\n",
       " {'name': 'The Sports Warehouse',\n",
       "  'image': 'https://media-cdn.tripadvisor.com/media/photo-s/07/ae/a0/4b/getlstd-property-photo.jpg'},\n",
       " {'name': 'Puncak Bintang',\n",
       "  'image': 'https://media-cdn.tripadvisor.com/media/photo-i/13/4c/14/6b/img-20180429-181123-largejpg.jpg'},\n",
       " {'name': 'Gedung Merdeka',\n",
       "  'image': 'https://media-cdn.tripadvisor.com/media/photo-f/0b/5b/da/47/tampak-samping.jpg'},\n",
       " {'name': 'Taman Lansia',\n",
       "  'image': 'https://media-cdn.tripadvisor.com/media/photo-i/12/41/99/17/img-20171021-151700-largejpg.jpg'},\n",
       " {'name': 'Tidak ada foto yang tersedia',\n",
       "  'image': 'https://static.tacdn.com/img2/social/no_photo_attraction.gif'},\n",
       " {'name': 'Tidak ada foto yang tersedia',\n",
       "  'image': 'https://static.tacdn.com/img2/social/no_photo_attraction.gif'},\n",
       " {'name': 'Taman Peta',\n",
       "  'image': 'https://media-cdn.tripadvisor.com/media/photo-i/0c/4a/55/5a/peta-park.jpg'},\n",
       " {'name': 'Taman Kupu-Kupu Cihanjuang',\n",
       "  'image': 'https://media-cdn.tripadvisor.com/media/photo-s/09/3b/fe/22/taman-kupu-kupu-cihanjuang.jpg'},\n",
       " {'name': 'Situ Cisanti',\n",
       "  'image': 'https://media-cdn.tripadvisor.com/media/photo-i/13/82/8d/ce/cisanti-lake.jpg'},\n",
       " {'name': 'Bandung Science Center',\n",
       "  'image': 'https://media-cdn.tripadvisor.com/media/photo-i/0c/f3/5f/93/periodic-table.jpg'},\n",
       " {'name': 'Taman Kelinci Ciwidey',\n",
       "  'image': 'https://media-cdn.tripadvisor.com/media/photo-i/0d/cd/85/96/this-rabbit-s-child-friendly.jpg'},\n",
       " {'name': 'Fashion World Indonesia',\n",
       "  'image': 'https://media-cdn.tripadvisor.com/media/photo-f/0b/19/e2/27/new-culinary-area-back.jpg'},\n",
       " {'name': 'Gedung De Driekleur  / Gedung Tiga Warna',\n",
       "  'image': 'https://media-cdn.tripadvisor.com/media/photo-f/01/29/c2/67/beautiful-art-deco-lines.jpg'},\n",
       " {'name': 'Batununggal Indah Club (Sports Center)',\n",
       "  'image': 'https://media-cdn.tripadvisor.com/media/photo-f/0a/42/81/12/kolam-renang-bic.jpg'},\n",
       " {'name': 'Click Square',\n",
       "  'image': 'https://media-cdn.tripadvisor.com/media/photo-f/11/ee/83/6f/click-square.jpg'},\n",
       " {'name': 'Curug Malela',\n",
       "  'image': 'https://media-cdn.tripadvisor.com/media/photo-f/0c/74/b7/19/trekking-1-km-to-malela.jpg'},\n",
       " {'name': 'Taman Bougenville',\n",
       "  'image': 'https://media-cdn.tripadvisor.com/media/photo-i/15/78/bb/15/taman-bougenville-gunung.jpg'},\n",
       " {'name': 'Kampung Batu Malakasari',\n",
       "  'image': 'https://media-cdn.tripadvisor.com/media/photo-i/0e/b8/73/4e/ydxj1019-largejpg.jpg'},\n",
       " {'name': 'Taman Jomblo',\n",
       "  'image': 'https://media-cdn.tripadvisor.com/media/photo-f/0a/ef/5b/59/taman-jomblo.jpg'},\n",
       " {'name': 'Bangunan Bank Denis',\n",
       "  'image': 'https://media-cdn.tripadvisor.com/media/photo-f/01/1b/fd/a1/art-deco-curves.jpg'},\n",
       " {'name': 'Blossom Factory Outlet',\n",
       "  'image': 'https://media-cdn.tripadvisor.com/media/photo-i/14/30/b4/d3/aussenfassade.jpg'},\n",
       " {'name': 'Panghegar Waterboom',\n",
       "  'image': 'https://media-cdn.tripadvisor.com/media/photo-f/0b/4a/44/96/kolam-arus-n-ember-tumpah.jpg'},\n",
       " {'name': 'Situ Ciburuy',\n",
       "  'image': 'https://media-cdn.tripadvisor.com/media/photo-o/09/e0/b9/b6/situ-ciburuy.jpg'},\n",
       " {'name': 'Rumah Gurita',\n",
       "  'image': 'https://media-cdn.tripadvisor.com/media/photo-i/0d/b6/84/10/octopus-arms-on-the-roof.jpg'},\n",
       " {'name': 'Tidak ada foto yang tersedia',\n",
       "  'image': 'https://static.tacdn.com/img2/social/no_photo_attraction.gif'},\n",
       " {'name': 'Tidak ada foto yang tersedia',\n",
       "  'image': 'https://static.tacdn.com/img2/social/no_photo_attraction.gif'},\n",
       " {'name': 'Tidak ada foto yang tersedia',\n",
       "  'image': 'https://static.tacdn.com/img2/social/no_photo_attraction.gif'},\n",
       " {'name': 'Sumber Air Panas Cibolang ',\n",
       "  'image': 'https://media-cdn.tripadvisor.com/media/photo-s/07/2e/58/85/hotspringpark.jpg'},\n",
       " {'name': 'Museum Nike Ardilla',\n",
       "  'image': 'https://media-cdn.tripadvisor.com/media/photo-i/14/50/ec/4e/photo1jpg.jpg'},\n",
       " {'name': 'Happy Farm',\n",
       "  'image': 'https://media-cdn.tripadvisor.com/media/photo-i/17/34/e2/01/happy-farm.jpg'},\n",
       " {'name': 'The Majestic Theatre',\n",
       "  'image': 'https://media-cdn.tripadvisor.com/media/photo-f/08/07/51/4e/the-majestic-theatre.jpg'},\n",
       " {'name': 'Taman Musik Centrum',\n",
       "  'image': 'https://media-cdn.tripadvisor.com/media/photo-f/0a/ad/ec/d1/taman-musik-centrum-pada.jpg'},\n",
       " {'name': 'Alun-Alun Regol',\n",
       "  'image': 'https://media-cdn.tripadvisor.com/media/photo-i/12/73/6a/8d/visit-in-weekday-better.jpg'},\n",
       " {'name': 'Wisata Ilmu Sutera',\n",
       "  'image': 'https://media-cdn.tripadvisor.com/media/photo-i/0c/b6/d0/b8/weaving-the-silk.jpg'},\n",
       " {'name': 'Taman Foto Bandung',\n",
       "  'image': 'https://media-cdn.tripadvisor.com/media/photo-i/12/d8/56/8a/20180430-060556-largejpg.jpg'},\n",
       " {'name': 'Tidak ada foto yang tersedia',\n",
       "  'image': 'https://static.tacdn.com/img2/social/no_photo_attraction.gif'},\n",
       " {'name': 'Agro Wisata N8',\n",
       "  'image': 'https://media-cdn.tripadvisor.com/media/photo-o/07/42/db/ea/rumah-kayu-agrowisata.jpg'},\n",
       " {'name': 'Summit Factory Outlet',\n",
       "  'image': 'https://media-cdn.tripadvisor.com/media/photo-s/08/65/26/2c/the-road-in-front-of.jpg'},\n",
       " {'name': 'Taman Dago',\n",
       "  'image': 'https://media-cdn.tripadvisor.com/media/photo-i/17/70/af/42/taman-dago.jpg'},\n",
       " {'name': 'Tidak ada foto yang tersedia',\n",
       "  'image': 'https://static.tacdn.com/img2/social/no_photo_attraction.gif'},\n",
       " {'name': 'Tidak ada foto yang tersedia',\n",
       "  'image': 'https://static.tacdn.com/img2/social/no_photo_attraction.gif'},\n",
       " {'name': 'Tektona Waterpark',\n",
       "  'image': 'https://media-cdn.tripadvisor.com/media/photo-f/0e/61/0a/4c/landscape.jpg'},\n",
       " {'name': 'Tidak ada foto yang tersedia',\n",
       "  'image': 'https://static.tacdn.com/img2/social/no_photo_attraction.gif'},\n",
       " {'name': 'Plaza Cikapundung River Spot',\n",
       "  'image': 'https://media-cdn.tripadvisor.com/media/photo-i/17/45/30/04/plaza-cikapundung-river.jpg'},\n",
       " {'name': 'Curug Batu Templek',\n",
       "  'image': 'https://media-cdn.tripadvisor.com/media/photo-i/14/a8/9b/f1/img-c9sks-largejpg.jpg'},\n",
       " {'name': 'Tidak ada foto yang tersedia',\n",
       "  'image': 'https://static.tacdn.com/img2/social/no_photo_attraction.gif'},\n",
       " {'name': 'Masjid Al Imtizaj',\n",
       "  'image': 'https://media-cdn.tripadvisor.com/media/photo-i/17/45/2e/d0/bagian-depan-masjid.jpg'},\n",
       " {'name': 'Taman Maluku',\n",
       "  'image': 'https://media-cdn.tripadvisor.com/media/photo-i/0f/56/6b/43/patung-pastor-hc-verbraak.jpg'},\n",
       " {'name': 'Tidak ada foto yang tersedia',\n",
       "  'image': 'https://static.tacdn.com/img2/social/no_photo_attraction.gif'},\n",
       " {'name': 'Kampung Mahmud',\n",
       "  'image': 'https://media-cdn.tripadvisor.com/media/photo-i/17/07/c6/d5/gerbang-kampung-mahmud.jpg'},\n",
       " {'name': 'Chapel Kabar Gembira maria',\n",
       "  'image': 'https://media-cdn.tripadvisor.com/media/photo-s/08/74/e7/43/chapel-kabar-gembira.jpg'},\n",
       " {'name': 'Tidak ada foto yang tersedia',\n",
       "  'image': 'https://static.tacdn.com/img2/social/no_photo_attraction.gif'},\n",
       " {'name': 'Masjid Mungsolkanas',\n",
       "  'image': 'https://media-cdn.tripadvisor.com/media/photo-i/0b/f2/59/f1/the-board-of-location.jpg'},\n",
       " {'name': 'Jessie James Factory Outlet',\n",
       "  'image': 'https://media-cdn.tripadvisor.com/media/photo-s/08/74/38/75/jessie-james-factory.jpg'},\n",
       " {'name': 'Episode Factory Outlet',\n",
       "  'image': 'https://media-cdn.tripadvisor.com/media/photo-i/12/32/f6/55/20180131-074059-largejpg.jpg'},\n",
       " {'name': 'Tugu Simpang Lima',\n",
       "  'image': 'https://media-cdn.tripadvisor.com/media/photo-i/18/0b/b2/fd/tugu-simpang-lima-bandung.jpg'},\n",
       " {'name': 'Tidak ada foto yang tersedia',\n",
       "  'image': 'https://static.tacdn.com/img2/social/no_photo_attraction.gif'},\n",
       " {'name': 'FO-JBA',\n",
       "  'image': 'https://media-cdn.tripadvisor.com/media/photo-f/08/6f/1d/5d/fo-jba.jpg'},\n",
       " {'name': 'Tidak ada foto yang tersedia',\n",
       "  'image': 'https://static.tacdn.com/img2/social/no_photo_attraction.gif'},\n",
       " {'name': 'Tidak ada foto yang tersedia',\n",
       "  'image': 'https://static.tacdn.com/img2/social/no_photo_attraction.gif'},\n",
       " {'name': 'Wisata Curug Layung',\n",
       "  'image': 'https://media-cdn.tripadvisor.com/media/photo-i/11/9b/7a/3b/img-20171216-wa0048-largejpg.jpg'},\n",
       " {'name': 'Tidak ada foto yang tersedia',\n",
       "  'image': 'https://static.tacdn.com/img2/social/no_photo_attraction.gif'},\n",
       " {'name': 'Tidak ada foto yang tersedia',\n",
       "  'image': 'https://static.tacdn.com/img2/social/no_photo_attraction.gif'},\n",
       " {'name': 'Tidak ada foto yang tersedia',\n",
       "  'image': 'https://static.tacdn.com/img2/social/no_photo_attraction.gif'},\n",
       " {'name': 'Tidak ada foto yang tersedia',\n",
       "  'image': 'https://static.tacdn.com/img2/social/no_photo_attraction.gif'},\n",
       " {'name': 'Pemancingan Mang Iing',\n",
       "  'image': 'https://media-cdn.tripadvisor.com/media/photo-i/10/44/39/7c/1499861626664-largejpg.jpg'},\n",
       " {'name': 'Gedung Swarha',\n",
       "  'image': 'https://media-cdn.tripadvisor.com/media/photo-i/18/0b/b7/70/swarha.jpg'},\n",
       " {'name': 'Kampoeng Tulip',\n",
       "  'image': 'https://media-cdn.tripadvisor.com/media/photo-i/16/d7/8e/40/on-the-spot.jpg'},\n",
       " {'name': 'Tidak ada foto yang tersedia',\n",
       "  'image': 'https://static.tacdn.com/img2/social/no_photo_attraction.gif'},\n",
       " {'name': 'Tidak ada foto yang tersedia',\n",
       "  'image': 'https://static.tacdn.com/img2/social/no_photo_attraction.gif'},\n",
       " {'name': 'Tidak ada foto yang tersedia',\n",
       "  'image': 'https://static.tacdn.com/img2/social/no_photo_attraction.gif'},\n",
       " {'name': 'Tidak ada foto yang tersedia',\n",
       "  'image': 'https://static.tacdn.com/img2/social/no_photo_attraction.gif'},\n",
       " {'name': 'Tidak ada foto yang tersedia',\n",
       "  'image': 'https://static.tacdn.com/img2/social/no_photo_attraction.gif'},\n",
       " {'name': 'Tidak ada foto yang tersedia',\n",
       "  'image': 'https://static.tacdn.com/img2/social/no_photo_attraction.gif'},\n",
       " {'name': 'Tidak ada foto yang tersedia',\n",
       "  'image': 'https://static.tacdn.com/img2/social/no_photo_attraction.gif'}]"
      ]
     },
     "execution_count": 85,
     "metadata": {},
     "output_type": "execute_result"
    }
   ],
   "source": [
    "Advisor"
   ]
  },
  {
   "cell_type": "code",
   "execution_count": 86,
   "metadata": {},
   "outputs": [],
   "source": [
    "driver.quit()"
   ]
  },
  {
   "cell_type": "code",
   "execution_count": 88,
   "metadata": {},
   "outputs": [],
   "source": [
    "with open('TripAdvisorImage.json', 'w') as file:\n",
    "    json.dump(Advisor, file, indent=2)"
   ]
  },
  {
   "cell_type": "code",
   "execution_count": null,
   "metadata": {},
   "outputs": [],
   "source": []
  }
 ],
 "metadata": {
  "kernelspec": {
   "display_name": "Python 3",
   "language": "python",
   "name": "python3"
  },
  "language_info": {
   "codemirror_mode": {
    "name": "ipython",
    "version": 3
   },
   "file_extension": ".py",
   "mimetype": "text/x-python",
   "name": "python",
   "nbconvert_exporter": "python",
   "pygments_lexer": "ipython3",
   "version": "3.7.6"
  }
 },
 "nbformat": 4,
 "nbformat_minor": 4
}
